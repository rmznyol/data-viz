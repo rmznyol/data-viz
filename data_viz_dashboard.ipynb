{
 "cells": [
  {
   "cell_type": "markdown",
   "metadata": {},
   "source": [
    "# 0) Installing Dependencies"
   ]
  },
  {
   "cell_type": "code",
   "execution_count": 1,
   "metadata": {},
   "outputs": [],
   "source": [
    "from data_processor import dataprocessor\n",
    "import plot_maker\n",
    "from constants import DESCRIPTION_URL_DICTIONARY\n",
    "import pandas as pd\n",
    "from datetime import datetime, date, timedelta\n",
    "from dash import dash,dcc, html, Input, Output, no_update\n",
    "from jupyter_dash import JupyterDash\n",
    "from US_time import ComputeUSTime"
   ]
  },
  {
   "attachments": {},
   "cell_type": "markdown",
   "metadata": {},
   "source": [
    "# 1) How does it work?\n",
    "\n",
    "## This dashboard displays information about weather in cities across the continental US. \n",
    "\n",
    "The weather data is displayed graphically as follows. Each city has an arrow emanating from it. The direction of the arrow on the map corresponds to the wind direction, and its size represents the wind speed. The color of the arrow corresponds to the temperature, according to the colorbar on the right.\n",
    "\n",
    "## There are five levels of interface:\n",
    "### 1. The calendar tool\n",
    "The user selects the date to focus on, using a calendar tool. The allowed dates are between 11/01/2012 and 10/31/2017.\n",
    "### 2. Radio items to select timeframe\n",
    "The options allow the user to view weather data for each hour of the day or daily averages over a span of 31 days.\n",
    "### 3. Slider to select what to view\n",
    "If the timeframe is \"per hour,\" the user can select which hour of the day to view. All hours are in Eastern time. If the timeframe is \"daily average,\" the user can select the day up to 15 days before or 15 days after.\n",
    "### 4. Graph interaction\n",
    "The user can pan or zoom to better see the graphical information. While it is possible to pan away from the continental US, there is no weather information elsewhere.\n",
    "### 5. Hover for detailed information\n",
    "The user can hover over a city and view its name and the exact temperature, weather description, and wind speed. It also displays an image corresponding to the weather description."
   ]
  },
  {
   "cell_type": "markdown",
   "metadata": {},
   "source": [
    "# 2) Application"
   ]
  },
  {
   "cell_type": "code",
   "execution_count": 29,
   "metadata": {
    "ExecuteTime": {
     "end_time": "2023-04-11T16:18:35.662793Z",
     "start_time": "2023-04-11T16:18:35.657830Z"
    },
    "scrolled": false
   },
   "outputs": [
    {
     "name": "stdout",
     "output_type": "stream",
     "text": [
      "Dash app running on http://127.0.0.1:8062/\n"
     ]
    },
    {
     "name": "stdout",
     "output_type": "stream",
     "text": [
      "Portland 72.12200000000004 few clouds 4.0\n",
      "Portland 72.12200000000004 few clouds 4.0\n",
      "Albuquerque 80.95999999999998 scattered clouds 2.0\n",
      "Dallas 89.86999999999996 light rain 3.0\n"
     ]
    }
   ],
   "source": [
    "app = JupyterDash(__name__)\n",
    "\n",
    "# Sets up the layout with all interfaces\n",
    "app.layout = html.Div([\n",
    "    html.H2(children= \"Interactive U.S. Weather Description\", style={'textAlign':'center'}),\n",
    "    html.H3(children= \"Nov. 2012-Oct. 2017\", style={'textAlign':'center'}),\n",
    "    html.P('Displays weather data for cities across the US at selected dates or times.',style={'textAlign':'center'}),\n",
    "    html.Div(\n",
    "    html.Ul([html.Li('Arrow direction: wind direction'),\n",
    "            html.Li('Arrow size: wind speed'),\n",
    "            html.Li('Arrow color: temperature'),\n",
    "            html.Li('Calendar: select central day'),\n",
    "            html.Li('Radio items: hourly data or daily averages'),\n",
    "            html.Li('Slider: given chosen day, select hour or day in vicinity'),\n",
    "            html.Li('Hover: view temperature, weather description with picture, and wind speed for city')],\n",
    "            style={'display': 'inline-block', 'textAlign':'left'}\n",
    "            ),\n",
    "            style={'textAlign': \"center\"}\n",
    "            ),\n",
    "    # Calendar and radio items\n",
    "    html.Div([dcc.DatePickerSingle(id='date-picker-single',\n",
    "                                   min_date_allowed=date(2012, 11, 1),\n",
    "                                   max_date_allowed=date(2017, 10, 31),\n",
    "                                   initial_visible_month=date(2015, 8, 5),\n",
    "                                   date=date(2015, 8, 25),\n",
    "                                   style={'float': 'left', 'margin': 'auto'}\n",
    "                                   ),\n",
    "\n",
    "              dcc.RadioItems(options=[{'label': 'per hour', 'value': 'hourly'},\n",
    "                                      {'label': 'daily average', 'value': 'daily_average'}\n",
    "                                      ],\n",
    "                             value='hourly',\n",
    "                             id='data_type',\n",
    "                             style={'float': 'left', 'margin': 'auto'},\n",
    "                             )],\n",
    "             className='row'),\n",
    "    html.Br(),\n",
    "    html.Br(),\n",
    "    html.Br(),\n",
    "    html.Br(),\n",
    "    # Hour slider\n",
    "    html.Div(id='slider_container', children=[dcc.Slider(0, 23, 1, id='time-select',\n",
    "                                                         marks={\n",
    "                                                             val: ComputeUSTime(val).compute_US_time() for val in range(24)},\n",
    "                                                         value=12)]),\n",
    "    # Day slider\n",
    "    html.Div(id='slider_container_days',\n",
    "             children=[\n",
    "                 html.Div([\n",
    "                     html.P(children= 'day(s)', style={'float': 'right','fontSize': 14,'margin-top':'-15px'}),\n",
    "                     html.P(children= 'day(s)',style={'float': 'left','fontSize': 14,'margin-top':'-15px'})],\n",
    "                     className='row'),\n",
    "                 dcc.Slider(-15, 15, 1, id='date-select',value=0,included=False),\n",
    "             ],\n",
    "             ),\n",
    "    # Graph\n",
    "    dcc.Graph(id='plot', clear_on_unhover=True),\n",
    "    # Hover\n",
    "    dcc.Tooltip(id=\"graph-tooltip\")\n",
    "])\n",
    "\n",
    "\n",
    "# Updates which slider is visible based on radio items choice\n",
    "@app.callback(\n",
    "    Output('slider_container', 'style'),\n",
    "    Input('data_type', 'value'))\n",
    "def set_cities_options(option):\n",
    "    if option == 'hourly':\n",
    "        return {'display': 'block'}\n",
    "    else:\n",
    "        return {'display': 'none'}\n",
    "\n",
    "\n",
    "@app.callback(\n",
    "    Output('slider_container_days', 'style'),\n",
    "    Output('date-select','marks'),\n",
    "    Input('data_type', 'value'),\n",
    "    Input('date-picker-single', 'date'))\n",
    "def update_date_day_slider(option,date):\n",
    "    date = '2015-08-25' if date == None else date \n",
    "    if option != 'hourly':\n",
    "        marks = {val: ({'label':f'{val:+}'} if val !=0 else {'label': date, 'style': {'color': '#f50','fontSize': 16,'margin-top':'-35px'}}) for val in range(-15,16)}\n",
    "        return {'display': 'block'}, marks\n",
    "    else:\n",
    "        return {'display': 'none'}, None\n",
    "\n",
    "\n",
    "# Updates the graph based on date or time choice\n",
    "@app.callback(\n",
    "    Output('plot', 'figure'),\n",
    "    Input('date-picker-single', 'date'),\n",
    "    Input('time-select', 'value'),\n",
    "    Input('date-select', 'value'),\n",
    "    Input('data_type', 'value')\n",
    ")\n",
    "def update_figure(date, time, date_delta, datatype):\n",
    "    date = '2015-08-25' if date == None else date \n",
    "    if datatype == 'hourly':\n",
    "        datetime_datetime = datetime.fromisoformat(\n",
    "            date) + timedelta(hours=time)\n",
    "        datetime_datetime = pd.to_datetime(datetime_datetime)\n",
    "    else:\n",
    "        datetime_datetime = datetime.fromisoformat(date).date() + timedelta(days=date_delta)\n",
    "        \n",
    "            \n",
    "\n",
    "    data_in_time = dataprocessor.get_organized_wind_data_in_time(\n",
    "        datetime_datetime, datatype)\n",
    "    fig = plot_maker.PlotMaker(data_in_time).plot_maker()\n",
    "    fig.update_traces(hoverinfo=\"none\", hovertemplate=None)\n",
    "    return fig\n",
    "\n",
    "\n",
    "# Updates hover\n",
    "@app.callback(\n",
    "    Output(\"graph-tooltip\", \"show\"),\n",
    "    Output(\"graph-tooltip\", \"bbox\"),\n",
    "    Output(\"graph-tooltip\", \"children\"),\n",
    "    Input('plot', \"hoverData\"),\n",
    "    Input('date-picker-single', 'date'),\n",
    "    Input('time-select', 'value'),\n",
    "    Input('data_type', 'value')\n",
    ")\n",
    "def update_hover(hoverData, date, time, datatype):\n",
    "    date = '2015-08-25' if date == None else date\n",
    "    if hoverData is None:\n",
    "        return False, no_update, no_update\n",
    "    \n",
    "    pt_lat = hoverData[\"points\"][0]['lat']\n",
    "    pt_lon = hoverData[\"points\"][0]['lon']\n",
    "    bbox = hoverData[\"points\"][0][\"bbox\"]\n",
    "    \n",
    "    if datatype == 'hourly':\n",
    "        datetime_datetime = datetime.fromisoformat(\n",
    "            date) + timedelta(hours=time)\n",
    "        datetime_datetime = pd.to_datetime(datetime_datetime)\n",
    "    else:\n",
    "        datetime_datetime = datetime.fromisoformat(date).date()\n",
    "    city, temp, desc, speed = dataprocessor.get_hover_data_in_time(\n",
    "        pt_lat, pt_lon, datetime_datetime, datatype)\n",
    "    img_src = DESCRIPTION_URL_DICTIONARY[desc]\n",
    "\n",
    "    if len(desc) > 300:\n",
    "        desc = desc[:100] + '...'\n",
    "\n",
    "    children = [\n",
    "        html.Div([\n",
    "            html.Img(src=img_src, style={\"width\": \"100%\"}),\n",
    "            html.H2(f\"{city}\", style={\"color\": \"darkblue\",\n",
    "                    \"overflow-wrap\": \"break-word\"}),\n",
    "            html.P(f\"{temp:.1f}\"u'\\N{DEGREE SIGN}F'),\n",
    "            html.P(f'{desc}'),\n",
    "            html.P(f\"{speed:.1f} m/s\"),\n",
    "        ], style={'width': '200px', 'white-space': 'normal'})\n",
    "    ]\n",
    "\n",
    "    return True, bbox, children\n",
    "\n",
    "\n",
    "\n",
    "app.run_server(\n",
    "    # mode='inline',\n",
    "    port=8062)"
   ]
  },
  {
   "cell_type": "markdown",
   "metadata": {
    "ExecuteTime": {
     "end_time": "2023-04-11T16:19:41.788136Z",
     "start_time": "2023-04-11T16:19:41.785361Z"
    }
   },
   "source": [
    "# 3) Next Steps\n",
    " - Can create an animation\n",
    " - Can Get live updates "
   ]
  },
  {
   "cell_type": "code",
   "execution_count": null,
   "metadata": {},
   "outputs": [],
   "source": []
  }
 ],
 "metadata": {
  "kernelspec": {
   "display_name": "Python 3 (ipykernel)",
   "language": "python",
   "name": "python3"
  },
  "language_info": {
   "codemirror_mode": {
    "name": "ipython",
    "version": 3
   },
   "file_extension": ".py",
   "mimetype": "text/x-python",
   "name": "python",
   "nbconvert_exporter": "python",
   "pygments_lexer": "ipython3",
   "version": "3.10.7"
  },
  "vscode": {
   "interpreter": {
    "hash": "759052d01816ede377dd5228398ee60695c63f2ebc8548e654225eb2cba5dccb"
   }
  }
 },
 "nbformat": 4,
 "nbformat_minor": 4
}
