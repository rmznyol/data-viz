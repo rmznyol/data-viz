{
 "cells": [
  {
   "cell_type": "code",
   "execution_count": 1,
   "metadata": {},
   "outputs": [],
   "source": [
    "#import the Dash package\n",
    "from dash import Dash, html, dcc, Input, Output\n",
    "from jupyter_dash import JupyterDash\n",
    "\n",
    "import warnings\n",
    "warnings.filterwarnings('ignore')"
   ]
  },
  {
   "cell_type": "code",
   "execution_count": 2,
   "metadata": {},
   "outputs": [
    {
     "name": "stdout",
     "output_type": "stream",
     "text": [
      "Dash is running on http://127.0.0.1:8062/\n",
      "\n"
     ]
    },
    {
     "data": {
      "text/html": [
       "\n",
       "        <iframe\n",
       "            width=\"100%\"\n",
       "            height=\"650\"\n",
       "            src=\"http://127.0.0.1:8062/\"\n",
       "            frameborder=\"0\"\n",
       "            allowfullscreen\n",
       "            \n",
       "        ></iframe>\n",
       "        "
      ],
      "text/plain": [
       "<IPython.lib.display.IFrame at 0x17a7dcfd0>"
      ]
     },
     "metadata": {},
     "output_type": "display_data"
    }
   ],
   "source": [
    "import data_processor\n",
    "import plot_maker\n",
    "from constants import DESCRIPTION_URL_DICTIONARY\n",
    "import pandas as pd \n",
    "from datetime import datetime, date, timedelta\n",
    "\n",
    "from dash import Dash, dcc, html, Input, Output, no_update\n",
    "\n",
    "data = data_processor.DataProcessor().get_data()\n",
    "app = JupyterDash(__name__)\n",
    "\n",
    "app.layout = html.Div([dcc.DatePickerSingle(id='date-picker-single',\n",
    "min_date_allowed=date(2012, 10, 1),\n",
    "max_date_allowed=date(2017, 10, 30),\n",
    "initial_visible_month=date(2015, 8, 5),\n",
    "date=date(2015, 8, 25)\n",
    "    ),\n",
    "    html.Br(),\n",
    "    html.Br(),\n",
    "    dcc.Slider(0, 23, 1, value=1, id='time-select'),\n",
    "    dcc.Graph(id='plot', clear_on_unhover=True),\n",
    "    dcc.Tooltip(id=\"graph-tooltip\")\n",
    "])\n",
    "\n",
    "\n",
    "@app.callback(\n",
    "       Output('plot', 'figure'),\n",
    "       Input('date-picker-single', 'date'),\n",
    "       Input('time-select', 'value'),\n",
    ")\n",
    "def update_figure(date,time):\n",
    "    datetime_datetime = datetime.fromisoformat(date) + timedelta(hours=time)\n",
    "    datetime_pandas_timestamp = pd.to_datetime(datetime_datetime)\n",
    "    fig = plot_maker.PlotMaker(datetime_pandas_timestamp,data).plot_maker() \n",
    "    fig.update_traces(hoverinfo=\"none\", hovertemplate=None)\n",
    "    return fig\n",
    "\n",
    "\n",
    "@app.callback(\n",
    "        Output(\"graph-tooltip\", \"show\"),\n",
    "        Output(\"graph-tooltip\", \"bbox\"),\n",
    "        Output(\"graph-tooltip\", \"children\"),\n",
    "        Input('plot', \"hoverData\"),\n",
    "        Input('date-picker-single', 'date'),\n",
    "        Input('time-select', 'value'),\n",
    ")\n",
    "def update_hover(hoverData,date,time): \n",
    "    \n",
    "    if hoverData is None:\n",
    "        return False, no_update, no_update\n",
    "    pt_lat = hoverData[\"points\"][0]['lat']\n",
    "    pt_lon = hoverData[\"points\"][0]['lon']\n",
    "    bbox = hoverData[\"points\"][0][\"bbox\"]\n",
    "    \n",
    "    datetime_datetime = datetime.fromisoformat(date) + timedelta(hours=time)\n",
    "    datetime_pandas_timestamp = pd.to_datetime(datetime_datetime)\n",
    "\n",
    "    \n",
    "    name = data['locations'][(data['locations'].Latitude == pt_lat) |(data['locations'].Longitude == pt_lon)].City.values[0]\n",
    "    temp = data['temp_in_F'][data['temp_in_F'].datetime == datetime_pandas_timestamp][name].values[0]\n",
    "    desc = data['weather_description'][data['weather_description'].datetime == datetime_pandas_timestamp][name].values[0]\n",
    "    img_src = DESCRIPTION_URL_DICTIONARY[desc]\n",
    "    if len(desc) > 300:\n",
    "        desc = desc[:100] + '...'\n",
    "\n",
    "    children = [\n",
    "        html.Div([\n",
    "            html.Img(src=img_src, style={\"width\": \"100%\"}),\n",
    "            html.H2(f\"{name}\", style={\"color\": \"darkblue\", \"overflow-wrap\": \"break-word\"}),\n",
    "            html.P(f\"{temp:.1f}\"u'\\N{DEGREE SIGN}F'),\n",
    "            html.P(f'{desc}'),\n",
    "        ], style={'width': '200px', 'white-space': 'normal'})\n",
    "    ]\n",
    "\n",
    "    return True, bbox, children\n",
    "\n",
    "app.run_server(mode='inline', port = 8062)"
   ]
  },
  {
   "cell_type": "code",
   "execution_count": null,
   "metadata": {},
   "outputs": [],
   "source": []
  }
 ],
 "metadata": {
  "kernelspec": {
   "display_name": "Python 3 (ipykernel)",
   "language": "python",
   "name": "python3"
  },
  "language_info": {
   "codemirror_mode": {
    "name": "ipython",
    "version": 3
   },
   "file_extension": ".py",
   "mimetype": "text/x-python",
   "name": "python",
   "nbconvert_exporter": "python",
   "pygments_lexer": "ipython3",
   "version": "3.11.0"
  }
 },
 "nbformat": 4,
 "nbformat_minor": 4
}
