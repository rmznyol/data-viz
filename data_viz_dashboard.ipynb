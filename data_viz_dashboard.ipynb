{
 "cells": [
  {
   "cell_type": "code",
   "execution_count": 1,
   "metadata": {
    "ExecuteTime": {
     "end_time": "2023-04-10T20:44:09.559657Z",
     "start_time": "2023-04-10T20:44:09.416510Z"
    }
   },
   "outputs": [],
   "source": [
    "# import the Dash package\n",
    "from dash import Dash, html, dcc, Input, Output\n",
    "from jupyter_dash import JupyterDash\n"
   ]
  },
  {
   "cell_type": "code",
   "execution_count": 21,
   "metadata": {
    "ExecuteTime": {
     "end_time": "2023-04-10T22:56:18.893829Z",
     "start_time": "2023-04-10T22:56:18.404813Z"
    }
   },
   "outputs": [
    {
     "name": "stdout",
     "output_type": "stream",
     "text": [
      "Dash app running on http://127.0.0.1:8062/\n"
     ]
    }
   ],
   "source": [
    "from data_processor import dataprocessor\n",
    "import plot_maker\n",
    "from constants import DESCRIPTION_URL_DICTIONARY\n",
    "import pandas as pd\n",
    "from datetime import datetime, date, timedelta\n",
    "from dash import dcc, html, Input, Output, no_update\n",
    "\n",
    "from US_time import ComputeUSTime\n",
    "\n",
    "app = JupyterDash(__name__)\n",
    "\n",
    "app.layout = html.Div([\n",
    "    html.H2(children= \"Interactive U.S. Weather Description\", style={'textAlign':'center'}),\n",
    "    html.H3(children= \"Nov. 2012-Oct. 2017\", style={'textAlign':'center'}),\n",
    "    html.Div([dcc.DatePickerSingle(id='date-picker-single',\n",
    "                                   min_date_allowed=date(2012, 11, 1),\n",
    "                                   max_date_allowed=date(2017, 10, 31),\n",
    "                                   initial_visible_month=date(2015, 8, 5),\n",
    "                                   date=date(2015, 8, 25),\n",
    "                                   style={'float': 'left', 'margin': 'auto'}\n",
    "                                   ),\n",
    "              dcc.RadioItems(options=[{'label': 'per hour', 'value': 'hourly'},\n",
    "                                      {'label': 'average', 'value': 'daily_average'}\n",
    "                                      ],\n",
    "                             value='hourly',\n",
    "                             id='data_type',\n",
    "                             style={'float': 'left', 'margin': 'auto'},\n",
    "                             )],\n",
    "             className='row'),\n",
    "    html.Br(),\n",
    "    html.Br(),\n",
    "    html.Br(),\n",
    "    html.Br(),\n",
    "    html.Div(id='slider_container', children=[dcc.Slider(0, 23, 1, id='time-select',\n",
    "                                                         marks={\n",
    "                                                             val: ComputeUSTime(val).compute_US_time() for val in range(24)},\n",
    "                                                         value=12)]),\n",
    "    html.Div(id='slider_container_days',\n",
    "             children=[\n",
    "                 html.Div([\n",
    "                     html.P(children= 'day(s)', style={'float': 'right','fontSize': 14,'margin-top':'-15px'}),\n",
    "                     html.P(children= 'day(s)',style={'float': 'left','fontSize': 14,'margin-top':'-15px'})],\n",
    "                     className='row'),\n",
    "                 dcc.Slider(-15, 15, 1, id='date-select',value=0,included=False),\n",
    "             ],\n",
    "             ),\n",
    "    dcc.Graph(id='plot', clear_on_unhover=True),\n",
    "    dcc.Tooltip(id=\"graph-tooltip\")\n",
    "])\n",
    "\n",
    "\n",
    "@app.callback(\n",
    "    Output('slider_container', 'style'),\n",
    "    Input('data_type', 'value'))\n",
    "def set_cities_options(option):\n",
    "    if option == 'hourly':\n",
    "        return {'display': 'block'}\n",
    "    else:\n",
    "        return {'display': 'none'}\n",
    "\n",
    "\n",
    "@app.callback(\n",
    "    Output('slider_container_days', 'style'),\n",
    "    Output('date-select','marks'),\n",
    "    Input('data_type', 'value'),\n",
    "    Input('date-picker-single', 'date'))\n",
    "def update_date_day_slider(option,date):\n",
    "    if option != 'hourly':\n",
    "        marks = {val: ({'label':f'{val:+}'} if val !=0 else {'label': date, 'style': {'color': '#f50','fontSize': 16,'margin-top':'-35px'}}) for val in range(-14,15)}\n",
    "        marks[-15] = {'label':'-15'}\n",
    "        marks[15] = {'label':'+15'}\n",
    "        return {'display': 'block'}, marks\n",
    "    else:\n",
    "        return {'display': 'none'}, None\n",
    "\n",
    "\n",
    "@app.callback(\n",
    "    Output('plot', 'figure'),\n",
    "    Input('date-picker-single', 'date'),\n",
    "    Input('time-select', 'value'),\n",
    "    Input('date-select', 'value'),\n",
    "    Input('data_type', 'value')\n",
    ")\n",
    "def update_figure(date, time, date_delta, datatype):\n",
    "    if datatype == 'hourly':\n",
    "        datetime_datetime = datetime.fromisoformat(\n",
    "            date) + timedelta(hours=time)\n",
    "        datetime_datetime = pd.to_datetime(datetime_datetime)\n",
    "    else:\n",
    "        datetime_datetime = datetime.fromisoformat(date).date() + timedelta(days=date_delta)\n",
    "        \n",
    "            \n",
    "\n",
    "    data_in_time = dataprocessor.get_organized_wind_data_in_time(\n",
    "        datetime_datetime, datatype)\n",
    "    fig = plot_maker.PlotMaker(data_in_time).plot_maker()\n",
    "    fig.update_traces(hoverinfo=\"none\", hovertemplate=None)\n",
    "    return fig\n",
    "\n",
    "\n",
    "@app.callback(\n",
    "    Output(\"graph-tooltip\", \"show\"),\n",
    "    Output(\"graph-tooltip\", \"bbox\"),\n",
    "    Output(\"graph-tooltip\", \"children\"),\n",
    "    Input('plot', \"hoverData\"),\n",
    "    Input('date-picker-single', 'date'),\n",
    "    Input('time-select', 'value'),\n",
    "    Input('data_type', 'value')\n",
    ")\n",
    "def update_hover(hoverData, date, time, datatype):\n",
    "    if hoverData is None:\n",
    "        return False, no_update, no_update\n",
    "    pt_lat = hoverData[\"points\"][0]['lat']\n",
    "    pt_lon = hoverData[\"points\"][0]['lon']\n",
    "    bbox = hoverData[\"points\"][0][\"bbox\"]\n",
    "\n",
    "    if datatype == 'hourly':\n",
    "        datetime_datetime = datetime.fromisoformat(\n",
    "            date) + timedelta(hours=time)\n",
    "        datetime_datetime = pd.to_datetime(datetime_datetime)\n",
    "    else:\n",
    "        datetime_datetime = datetime.fromisoformat(date).date()\n",
    "\n",
    "    city, temp, desc = dataprocessor.get_hover_data_in_time(\n",
    "        pt_lat, pt_lon, datetime_datetime, datatype)\n",
    "    img_src = DESCRIPTION_URL_DICTIONARY[desc]\n",
    "\n",
    "    if len(desc) > 300:\n",
    "        desc = desc[:100] + '...'\n",
    "\n",
    "    children = [\n",
    "        html.Div([\n",
    "            html.Img(src=img_src, style={\"width\": \"100%\"}),\n",
    "            html.H2(f\"{city}\", style={\"color\": \"darkblue\",\n",
    "                    \"overflow-wrap\": \"break-word\"}),\n",
    "            html.P(f\"{temp:.1f}\"u'\\N{DEGREE SIGN}F'),\n",
    "            html.P(f'{desc}'),\n",
    "        ], style={'width': '200px', 'white-space': 'normal'})\n",
    "    ]\n",
    "\n",
    "    return True, bbox, children\n",
    "\n",
    "\n",
    "\n",
    "app.run_server(port=8062)"
   ]
  },
  {
   "cell_type": "code",
   "execution_count": 2,
   "metadata": {
    "ExecuteTime": {
     "end_time": "2023-04-10T15:05:49.961951Z",
     "start_time": "2023-04-10T15:05:49.960080Z"
    }
   },
   "outputs": [],
   "source": []
  }
 ],
 "metadata": {
  "kernelspec": {
   "display_name": "Python 3 (ipykernel)",
   "language": "python",
   "name": "python3"
  },
  "language_info": {
   "codemirror_mode": {
    "name": "ipython",
    "version": 3
   },
   "file_extension": ".py",
   "mimetype": "text/x-python",
   "name": "python",
   "nbconvert_exporter": "python",
   "pygments_lexer": "ipython3",
   "version": "3.9.7"
  },
  "vscode": {
   "interpreter": {
    "hash": "759052d01816ede377dd5228398ee60695c63f2ebc8548e654225eb2cba5dccb"
   }
  }
 },
 "nbformat": 4,
 "nbformat_minor": 4
}
